{
  "metadata": {
    "kernelspec": {
      "language": "python",
      "display_name": "Python 3",
      "name": "python3"
    },
    "language_info": {
      "name": "python",
      "version": "3.7.12",
      "mimetype": "text/x-python",
      "codemirror_mode": {
        "name": "ipython",
        "version": 3
      },
      "pygments_lexer": "ipython3",
      "nbconvert_exporter": "python",
      "file_extension": ".py"
    },
    "kaggle": {
      "accelerator": "nvidiaTeslaT4",
      "dataSources": [
        {
          "sourceId": 3362,
          "databundleVersionId": 31148,
          "sourceType": "competition"
        }
      ],
      "dockerImageVersionId": 30370,
      "isInternetEnabled": true,
      "language": "python",
      "sourceType": "notebook",
      "isGpuEnabled": true
    },
    "colab": {
      "provenance": [],
      "include_colab_link": true
    }
  },
  "nbformat_minor": 0,
  "nbformat": 4,
  "cells": [
    {
      "cell_type": "markdown",
      "metadata": {
        "id": "view-in-github",
        "colab_type": "text"
      },
      "source": [
        "<a href=\"https://colab.research.google.com/github/4101swarna/BharatIntern2024_DS/blob/main/Copy_of_Dog_vs_Cat_Classifier_sdv.ipynb\" target=\"_parent\"><img src=\"https://colab.research.google.com/assets/colab-badge.svg\" alt=\"Open In Colab\"/></a>"
      ]
    },
    {
      "source": [
        "\n",
        "# IMPORTANT: RUN THIS CELL IN ORDER TO IMPORT YOUR KAGGLE DATA SOURCES\n",
        "# TO THE CORRECT LOCATION (/kaggle/input) IN YOUR NOTEBOOK,\n",
        "# THEN FEEL FREE TO DELETE THIS CELL.\n",
        "# NOTE: THIS NOTEBOOK ENVIRONMENT DIFFERS FROM KAGGLE'S PYTHON\n",
        "# ENVIRONMENT SO THERE MAY BE MISSING LIBRARIES USED BY YOUR\n",
        "# NOTEBOOK.\n",
        "\n",
        "import os\n",
        "import sys\n",
        "from tempfile import NamedTemporaryFile\n",
        "from urllib.request import urlopen\n",
        "from urllib.parse import unquote, urlparse\n",
        "from urllib.error import HTTPError\n",
        "from zipfile import ZipFile\n",
        "import tarfile\n",
        "import shutil\n",
        "\n",
        "CHUNK_SIZE = 40960\n",
        "DATA_SOURCE_MAPPING = 'dogs-vs-cats:https%3A%2F%2Fstorage.googleapis.com%2Fkaggle-competitions-data%2Fkaggle-v2%2F3362%2F31148%2Fbundle%2Farchive.zip%3FX-Goog-Algorithm%3DGOOG4-RSA-SHA256%26X-Goog-Credential%3Dgcp-kaggle-com%2540kaggle-161607.iam.gserviceaccount.com%252F20240414%252Fauto%252Fstorage%252Fgoog4_request%26X-Goog-Date%3D20240414T132925Z%26X-Goog-Expires%3D259200%26X-Goog-SignedHeaders%3Dhost%26X-Goog-Signature%3D4a9aec5b80b36bc6e874622bacf32fc61e00d966f10462d9934f8384921f894f67cd399071e08944b9b6cd4b96c61b10716ff4f09b0db4d4867042e2b495d975cb762f6514e4b420441c8e3e0c4eff67a3b41b8466c982fee2076603069a1fa78147cb6fa3176d28b5606e45538f38670ff98798718a87dfdcc4befa9c1882e7866dd5f94ab31e1e65ad9123ad68fafada82354e3a110b466818ede9c039f40bad2d21f09464f6d75e82f1aff58182b5599f2c32da6de65f9b1a8632bbe4b8ca32d822dbd5921c7ec7a18ea51187511649fd6b3f049d9570efabdf49ef18922fa664466684db33bfd2e6747045cc4f4db6e9c5e8c13edeaf00563f1923ac30e3'\n",
        "\n",
        "KAGGLE_INPUT_PATH='/kaggle/input'\n",
        "KAGGLE_WORKING_PATH='/kaggle/working'\n",
        "KAGGLE_SYMLINK='kaggle'\n",
        "\n",
        "!umount /kaggle/input/ 2> /dev/null\n",
        "shutil.rmtree('/kaggle/input', ignore_errors=True)\n",
        "os.makedirs(KAGGLE_INPUT_PATH, 0o777, exist_ok=True)\n",
        "os.makedirs(KAGGLE_WORKING_PATH, 0o777, exist_ok=True)\n",
        "\n",
        "try:\n",
        "  os.symlink(KAGGLE_INPUT_PATH, os.path.join(\"..\", 'input'), target_is_directory=True)\n",
        "except FileExistsError:\n",
        "  pass\n",
        "try:\n",
        "  os.symlink(KAGGLE_WORKING_PATH, os.path.join(\"..\", 'working'), target_is_directory=True)\n",
        "except FileExistsError:\n",
        "  pass\n",
        "\n",
        "for data_source_mapping in DATA_SOURCE_MAPPING.split(','):\n",
        "    directory, download_url_encoded = data_source_mapping.split(':')\n",
        "    download_url = unquote(download_url_encoded)\n",
        "    filename = urlparse(download_url).path\n",
        "    destination_path = os.path.join(KAGGLE_INPUT_PATH, directory)\n",
        "    try:\n",
        "        with urlopen(download_url) as fileres, NamedTemporaryFile() as tfile:\n",
        "            total_length = fileres.headers['content-length']\n",
        "            print(f'Downloading {directory}, {total_length} bytes compressed')\n",
        "            dl = 0\n",
        "            data = fileres.read(CHUNK_SIZE)\n",
        "            while len(data) > 0:\n",
        "                dl += len(data)\n",
        "                tfile.write(data)\n",
        "                done = int(50 * dl / int(total_length))\n",
        "                sys.stdout.write(f\"\\r[{'=' * done}{' ' * (50-done)}] {dl} bytes downloaded\")\n",
        "                sys.stdout.flush()\n",
        "                data = fileres.read(CHUNK_SIZE)\n",
        "            if filename.endswith('.zip'):\n",
        "              with ZipFile(tfile) as zfile:\n",
        "                zfile.extractall(destination_path)\n",
        "            else:\n",
        "              with tarfile.open(tfile.name) as tarfile:\n",
        "                tarfile.extractall(destination_path)\n",
        "            print(f'\\nDownloaded and uncompressed: {directory}')\n",
        "    except HTTPError as e:\n",
        "        print(f'Failed to load (likely expired) {download_url} to path {destination_path}')\n",
        "        continue\n",
        "    except OSError as e:\n",
        "        print(f'Failed to load {download_url} to path {destination_path}')\n",
        "        continue\n",
        "\n",
        "print('Data source import complete.')\n"
      ],
      "metadata": {
        "id": "LzeboWYbytQH",
        "outputId": "d2797466-4e06-41ca-bd9b-4f638f8b24e4",
        "colab": {
          "base_uri": "https://localhost:8080/"
        }
      },
      "cell_type": "code",
      "outputs": [
        {
          "output_type": "stream",
          "name": "stdout",
          "text": [
            "Downloading dogs-vs-cats, 851576689 bytes compressed\n",
            "[=                                                 ] 30679040 bytes downloaded"
          ]
        }
      ],
      "execution_count": null
    },
    {
      "cell_type": "markdown",
      "source": [
        "Import libraries"
      ],
      "metadata": {
        "id": "p9To617uytQV"
      }
    },
    {
      "cell_type": "code",
      "source": [
        "import cv2 as cv\n",
        "import numpy as np\n",
        "import matplotlib.pyplot as plt\n",
        "import os\n",
        "import zipfile\n",
        "from collections import Counter\n",
        "from scipy.cluster.vq import *\n",
        "from sklearn.cluster import KMeans\n",
        "from sklearn.preprocessing import StandardScaler\n",
        "from sklearn.neighbors import KNeighborsClassifier\n",
        "from sklearn.model_selection import train_test_split\n",
        "from sklearn.metrics import confusion_matrix, classification_report\n",
        "import seaborn"
      ],
      "metadata": {
        "_uuid": "8f2839f25d086af736a60e9eeb907d3b93b6e0e5",
        "_cell_guid": "b1076dfc-b9ad-4769-8c92-a6c4dae69d19",
        "execution": {
          "iopub.status.busy": "2024-04-14T13:26:03.636022Z",
          "iopub.execute_input": "2024-04-14T13:26:03.636917Z",
          "iopub.status.idle": "2024-04-14T13:26:04.560256Z",
          "shell.execute_reply.started": "2024-04-14T13:26:03.63687Z",
          "shell.execute_reply": "2024-04-14T13:26:04.559333Z"
        },
        "trusted": true,
        "id": "jKxCQEjyytQa"
      },
      "execution_count": null,
      "outputs": []
    },
    {
      "cell_type": "markdown",
      "source": [
        "function get_image_names to get all file names within the dataset, which is later on used to determine splitting among train and test data"
      ],
      "metadata": {
        "id": "7KdYuF0pytQb"
      }
    },
    {
      "cell_type": "code",
      "source": [
        "def get_image_names(root_path):\n",
        "    names = os.listdir(root_path)\n",
        "    return names"
      ],
      "metadata": {
        "execution": {
          "iopub.status.busy": "2024-04-14T13:26:04.561893Z",
          "iopub.execute_input": "2024-04-14T13:26:04.56221Z",
          "iopub.status.idle": "2024-04-14T13:26:04.566948Z",
          "shell.execute_reply.started": "2024-04-14T13:26:04.562181Z",
          "shell.execute_reply": "2024-04-14T13:26:04.565796Z"
        },
        "trusted": true,
        "id": "fprAqfbRytQc"
      },
      "execution_count": null,
      "outputs": []
    },
    {
      "cell_type": "markdown",
      "source": [
        "function get_images is to get the images listed in img_name_list from the given root path"
      ],
      "metadata": {
        "id": "8GxVGcvGytQe"
      }
    },
    {
      "cell_type": "code",
      "source": [
        "def get_images(root_path, img_name_list):\n",
        "    img_list = []\n",
        "    img_class_list = []\n",
        "\n",
        "    for img_name in img_name_list:\n",
        "        img_path = root_path + '/' + img_name\n",
        "        img = cv.imread(img_path)\n",
        "        img_list.append(img)\n",
        "\n",
        "        if ('cat' in img_name):\n",
        "            img_class_list.append(0)\n",
        "        elif ('dog' in img_name):\n",
        "            img_class_list.append(1)\n",
        "\n",
        "    return img_list, img_class_list"
      ],
      "metadata": {
        "execution": {
          "iopub.status.busy": "2024-04-14T13:26:04.568668Z",
          "iopub.execute_input": "2024-04-14T13:26:04.569406Z",
          "iopub.status.idle": "2024-04-14T13:26:04.575637Z",
          "shell.execute_reply.started": "2024-04-14T13:26:04.56937Z",
          "shell.execute_reply": "2024-04-14T13:26:04.574614Z"
        },
        "trusted": true,
        "id": "fIwvdYNkytQf"
      },
      "execution_count": null,
      "outputs": []
    },
    {
      "cell_type": "markdown",
      "source": [
        "**Bag of Visual Words (BoVW)**\n",
        "\n",
        "Consists of 3 parts:\n",
        "1. Feature detection and description (we used SIFT)\n",
        "2. Dictionary/codewords generation (perform k-means clustering over all vectors. The resulting center of cluters are the codewords/visual words, which represent similar image patches.)\n",
        "3. Vector quantization (comparing the distances between visual words with the images' features using scipy.cluster.vq. If the current feature descriptor is closer to centroid/visual word i, then it belongs to cluster i. This will produce a histogram (the bag of words) for each image, which represent the frequency of visual words in the image."
      ],
      "metadata": {
        "id": "cKpcX9yDytQh"
      }
    },
    {
      "cell_type": "markdown",
      "source": [
        "Extract image descriptors using SIFT"
      ],
      "metadata": {
        "id": "TLCRHM8tytQj"
      }
    },
    {
      "cell_type": "code",
      "source": [
        "def get_sift_descriptors(img_list):\n",
        "    sift = cv.SIFT_create()\n",
        "    descriptor_list = []\n",
        "\n",
        "    for img in img_list:\n",
        "        _, descriptors = sift.detectAndCompute(img, None)\n",
        "        descriptor_list.append(descriptors)\n",
        "\n",
        "    return descriptor_list"
      ],
      "metadata": {
        "execution": {
          "iopub.status.busy": "2024-04-14T13:26:04.57801Z",
          "iopub.execute_input": "2024-04-14T13:26:04.578959Z",
          "iopub.status.idle": "2024-04-14T13:26:04.584562Z",
          "shell.execute_reply.started": "2024-04-14T13:26:04.578923Z",
          "shell.execute_reply": "2024-04-14T13:26:04.583594Z"
        },
        "trusted": true,
        "id": "zuoB2JvtytQj"
      },
      "execution_count": null,
      "outputs": []
    },
    {
      "cell_type": "markdown",
      "source": [
        "Elbow method (wcss)"
      ],
      "metadata": {
        "id": "_1sw1sKHytQk"
      }
    },
    {
      "cell_type": "code",
      "source": [
        "def elbow_method_cluster(descriptor_list):\n",
        "    stacked_descriptors = descriptor_list[0]\n",
        "    for descriptor in descriptor_list[1:]:\n",
        "        stacked_descriptors = np.vstack((stacked_descriptors, descriptor))\n",
        "    stacked_descriptors = np.float32(stacked_descriptors)\n",
        "\n",
        "    wcss = []\n",
        "    k_values = []\n",
        "    for i in range(1, 10):\n",
        "        clustering = KMeans(n_clusters=i, init='k-means++', random_state=42)\n",
        "        clustering.fit(stacked_descriptors)\n",
        "        wcss.append(clustering.inertia_)\n",
        "        k_values.append(i)\n",
        "\n",
        "    plt.plot(wcss, marker='o')\n",
        "    plt.xticks(np.arange(0, len(wcss)), k_values)\n",
        "    plt.title('Elbow Method: WCSS vs K (number of clusters)')\n",
        "    plt.xlabel('K')\n",
        "    plt.ylabel('Inertia')\n",
        "    plt.show()"
      ],
      "metadata": {
        "execution": {
          "iopub.status.busy": "2024-04-14T13:26:04.58603Z",
          "iopub.execute_input": "2024-04-14T13:26:04.586505Z",
          "iopub.status.idle": "2024-04-14T13:26:04.595072Z",
          "shell.execute_reply.started": "2024-04-14T13:26:04.58646Z",
          "shell.execute_reply": "2024-04-14T13:26:04.59405Z"
        },
        "trusted": true,
        "id": "162s34ZqytQl"
      },
      "execution_count": null,
      "outputs": []
    },
    {
      "cell_type": "markdown",
      "source": [
        "Clustering (creating centroids) using K-means, in which we will experiment with k (number of clusters) of 2 (based on number of class, dog and cat) and custom (optimal number, based on elbow method/wcss)"
      ],
      "metadata": {
        "id": "QBWuqQ6FytQm"
      }
    },
    {
      "cell_type": "code",
      "source": [
        "def clustering(descriptor_list, k):\n",
        "    stacked_descriptors = descriptor_list[0]\n",
        "    for descriptor in descriptor_list[1:]:\n",
        "        stacked_descriptors = np.vstack((stacked_descriptors, descriptor))\n",
        "    stacked_descriptors = np.float32(stacked_descriptors)\n",
        "\n",
        "    centroids, _ = kmeans(stacked_descriptors, k, 20)\n",
        "\n",
        "    return centroids"
      ],
      "metadata": {
        "execution": {
          "iopub.status.busy": "2024-04-14T13:26:04.596427Z",
          "iopub.execute_input": "2024-04-14T13:26:04.596809Z",
          "iopub.status.idle": "2024-04-14T13:26:04.604942Z",
          "shell.execute_reply.started": "2024-04-14T13:26:04.596759Z",
          "shell.execute_reply": "2024-04-14T13:26:04.603868Z"
        },
        "trusted": true,
        "id": "sukLkV4kytQn"
      },
      "execution_count": null,
      "outputs": []
    },
    {
      "cell_type": "markdown",
      "source": [
        "Vector quantization (Bag of Words)\n"
      ],
      "metadata": {
        "id": "YrfKoJDgytQn"
      }
    },
    {
      "cell_type": "code",
      "source": [
        "def vector_quantization(descriptor_list, number_of_images, centroids):\n",
        "    image_features = np.zeros((number_of_images, len(centroids)), \"float32\")\n",
        "\n",
        "    for i in range(number_of_images):\n",
        "        words, _ = vq(descriptor_list[i], centroids)\n",
        "        for w in words:\n",
        "            image_features[i][w] += 1\n",
        "\n",
        "    return image_features"
      ],
      "metadata": {
        "execution": {
          "iopub.status.busy": "2024-04-14T13:26:04.606275Z",
          "iopub.execute_input": "2024-04-14T13:26:04.606679Z",
          "iopub.status.idle": "2024-04-14T13:26:04.614623Z",
          "shell.execute_reply.started": "2024-04-14T13:26:04.606649Z",
          "shell.execute_reply": "2024-04-14T13:26:04.613739Z"
        },
        "trusted": true,
        "id": "TZ_b75LKytQn"
      },
      "execution_count": null,
      "outputs": []
    },
    {
      "cell_type": "markdown",
      "source": [
        "Histogram normalization using standard scaler, where data is scaled to a standard deviation of 1 and mean of 0, so that the histogram's frequencies are distributed to a wider range."
      ],
      "metadata": {
        "id": "XV75vJZ-ytQo"
      }
    },
    {
      "cell_type": "code",
      "source": [
        "def normalization(img_feature_list):\n",
        "    stdscaler = StandardScaler().fit(img_feature_list)\n",
        "    img_feature_list = stdscaler.transform(img_feature_list)\n",
        "\n",
        "    return img_feature_list"
      ],
      "metadata": {
        "execution": {
          "iopub.status.busy": "2024-04-14T13:26:04.615748Z",
          "iopub.execute_input": "2024-04-14T13:26:04.616082Z",
          "iopub.status.idle": "2024-04-14T13:26:04.622574Z",
          "shell.execute_reply.started": "2024-04-14T13:26:04.616052Z",
          "shell.execute_reply": "2024-04-14T13:26:04.621633Z"
        },
        "trusted": true,
        "id": "kK0irnxUytQo"
      },
      "execution_count": null,
      "outputs": []
    },
    {
      "cell_type": "markdown",
      "source": [
        "**Classification using nearest neighbors**\n",
        "\n",
        "Elbow method to determine the optimal number of k (nearest neighbors) in KNN by plotting error rate. Only odd numbers are considered in order to have a tiebreaker."
      ],
      "metadata": {
        "id": "d8sJKR8nytQp"
      }
    },
    {
      "cell_type": "code",
      "source": [
        "def elbow_method_neighbor(train_feature_list, train_class_list, test_feature_list, test_class_list):\n",
        "    error_rate = []\n",
        "    min_error = 100\n",
        "    min_idx = -1\n",
        "    for i in range(1, 300, 2):\n",
        "        knn = KNeighborsClassifier(n_neighbors=i)\n",
        "        knn.fit(train_feature_list, train_class_list)\n",
        "        pred_i = knn.predict(test_feature_list)\n",
        "        err = np.mean(pred_i != test_class_list)\n",
        "        error_rate.append(err)\n",
        "\n",
        "        if (err < min_error):\n",
        "            min_error = err\n",
        "            min_idx = i\n",
        "\n",
        "    k_values = [1]\n",
        "    for i in range(10, 301, 10):\n",
        "        k_values.append(i)\n",
        "\n",
        "    print(\"Minimum error rate is at k = \", min_idx, \"with error rate of \", min_error)\n",
        "    plt.figure(figsize=(20, 5))\n",
        "    plt.plot(error_rate, marker='o')\n",
        "    plt.xticks(np.arange(0, 151, 5), k_values)\n",
        "    plt.title('Elbow Method: Error rate vs K (number of neighbors)')\n",
        "    plt.xlabel('K')\n",
        "    plt.ylabel('Error Rate')\n",
        "    plt.show()\n",
        "\n",
        "    return min_idx, min_error"
      ],
      "metadata": {
        "execution": {
          "iopub.status.busy": "2024-04-14T13:26:04.623902Z",
          "iopub.execute_input": "2024-04-14T13:26:04.624236Z",
          "iopub.status.idle": "2024-04-14T13:26:04.634371Z",
          "shell.execute_reply.started": "2024-04-14T13:26:04.624199Z",
          "shell.execute_reply": "2024-04-14T13:26:04.633442Z"
        },
        "trusted": true,
        "id": "NFzDrJWNytQp"
      },
      "execution_count": null,
      "outputs": []
    },
    {
      "cell_type": "markdown",
      "source": [
        "KNN\n",
        "\n",
        "K-nearest neighbors is a supervised machine learning algorithm that is used to make classification or prediction. Since this is a classification task, then the algorithm must determine whether an object is a 'Dog' or 'Cat'. To determine this, KNN uses a technique called 'majority voting' or simply checks the K nearest points and  predict the class based on the voting of the most frequent class."
      ],
      "metadata": {
        "id": "4XqcsOOgytQq"
      }
    },
    {
      "cell_type": "code",
      "source": [
        "def KNN(train_feature_list, train_class_list, test_feature_list, test_class_list, k):\n",
        "    knn = KNeighborsClassifier(n_neighbors=k)\n",
        "    knn.fit(train_feature_list, train_class_list)\n",
        "\n",
        "    results = knn.predict(test_feature_list)\n",
        "    return results"
      ],
      "metadata": {
        "execution": {
          "iopub.status.busy": "2024-04-14T13:26:04.638455Z",
          "iopub.execute_input": "2024-04-14T13:26:04.638745Z",
          "iopub.status.idle": "2024-04-14T13:26:04.644678Z",
          "shell.execute_reply.started": "2024-04-14T13:26:04.638703Z",
          "shell.execute_reply": "2024-04-14T13:26:04.643534Z"
        },
        "trusted": true,
        "id": "Sw1fm5m1ytQq"
      },
      "execution_count": null,
      "outputs": []
    },
    {
      "cell_type": "markdown",
      "source": [
        "**Main code**\n",
        "\n",
        "Our KNN experiment consists of 2 models:\n",
        "1. KNN with 2 clusters/centroids and elbow method observation-based number of neighbors\n",
        "2. KNN with elbow method observation-based number of clusters and also elbow method observation-based number of neighbors"
      ],
      "metadata": {
        "id": "Gv4vLKabytQr"
      }
    },
    {
      "cell_type": "code",
      "source": [
        "with zipfile.ZipFile(\"../input/dogs-vs-cats/train.zip\",'r') as z:\n",
        "    z.extractall(\".\")"
      ],
      "metadata": {
        "execution": {
          "iopub.status.busy": "2024-04-14T13:26:04.646021Z",
          "iopub.execute_input": "2024-04-14T13:26:04.646479Z",
          "iopub.status.idle": "2024-04-14T13:26:16.691496Z",
          "shell.execute_reply.started": "2024-04-14T13:26:04.646429Z",
          "shell.execute_reply": "2024-04-14T13:26:16.69067Z"
        },
        "trusted": true,
        "id": "liMJxpHFytQr"
      },
      "execution_count": null,
      "outputs": []
    },
    {
      "cell_type": "markdown",
      "source": [
        "Read and split train and test images"
      ],
      "metadata": {
        "id": "pw8nMZggytQs"
      }
    },
    {
      "cell_type": "code",
      "source": [
        "root_path = \"./train\"\n",
        "img_name_list = get_image_names(root_path)\n",
        "train_name_list, test_name_list = train_test_split(img_name_list, test_size=0.1, random_state=42)\n",
        "\n",
        "train_name_list = train_name_list[:4200]\n",
        "test_name_list = test_name_list[:1800]\n",
        "\n",
        "train_image_list, train_class_list = get_images(root_path, train_name_list)\n",
        "test_image_list, test_class_list = get_images(root_path, test_name_list)\n",
        "\n",
        "print(\"Number of train images = \", len(train_image_list))\n",
        "print(Counter(train_class_list))\n",
        "print(\"Number of test images = \", len(test_image_list))\n",
        "print(Counter(test_class_list))"
      ],
      "metadata": {
        "execution": {
          "iopub.status.busy": "2024-04-14T13:26:16.692603Z",
          "iopub.execute_input": "2024-04-14T13:26:16.692898Z",
          "iopub.status.idle": "2024-04-14T13:26:29.137988Z",
          "shell.execute_reply.started": "2024-04-14T13:26:16.692872Z",
          "shell.execute_reply": "2024-04-14T13:26:29.137041Z"
        },
        "trusted": true,
        "id": "6dSn1zfcytQs",
        "outputId": "815cc420-e968-4cfb-fed8-98ecf7d72860"
      },
      "execution_count": null,
      "outputs": [
        {
          "name": "stdout",
          "text": "Number of train images =  4200\nCounter({1: 2112, 0: 2088})\nNumber of test images =  1800\nCounter({1: 919, 0: 881})\n",
          "output_type": "stream"
        }
      ]
    },
    {
      "cell_type": "markdown",
      "source": [
        "Due to memory limit issues, the total of images being used is 6000 out of 25000, with ratio between train and test data being 9:1. The counter above show the distribution of classes in train and test dataset; 0 for cat and 1 for dog. The numbers show that they are balanced."
      ],
      "metadata": {
        "id": "-ClF-lLuytQv"
      }
    },
    {
      "cell_type": "code",
      "source": [
        "train_descriptor_list = get_sift_descriptors(train_image_list)\n",
        "test_descriptor_list = get_sift_descriptors(test_image_list)"
      ],
      "metadata": {
        "execution": {
          "iopub.status.busy": "2024-04-14T13:26:29.139402Z",
          "iopub.execute_input": "2024-04-14T13:26:29.139767Z"
        },
        "trusted": true,
        "id": "XhRHJT5gytQw"
      },
      "execution_count": null,
      "outputs": []
    },
    {
      "cell_type": "markdown",
      "source": [
        "(1) KNN with 2 clusters/centroids and elbow method observation-based number of neighbors\n",
        "\n",
        "Under a simple logic that the number of categories in this dataset is 2 (dog and cat), our first attempt uses k (number of clusters) = 2."
      ],
      "metadata": {
        "id": "hYGG62ScytQx"
      }
    },
    {
      "cell_type": "code",
      "source": [
        "centroids = clustering(train_descriptor_list, 2)\n",
        "train_feature_list = vector_quantization(train_descriptor_list, len(train_image_list), centroids)\n",
        "train_feature_list = normalization(train_feature_list)\n",
        "\n",
        "test_feature_list = vector_quantization(test_descriptor_list, len(test_image_list), centroids)\n",
        "test_feature_list = normalization(test_feature_list)"
      ],
      "metadata": {
        "trusted": true,
        "id": "_JeGaYjJytQx"
      },
      "execution_count": null,
      "outputs": []
    },
    {
      "cell_type": "code",
      "source": [
        "min_error_idx, min_error_val = elbow_method_neighbor(train_feature_list, train_class_list, test_feature_list, test_class_list)"
      ],
      "metadata": {
        "trusted": true,
        "id": "HIupb_WJytQy"
      },
      "execution_count": null,
      "outputs": []
    },
    {
      "cell_type": "markdown",
      "source": [
        "Using elbow method, we can observe the error rates as visualized by the plot above, and the global minima is found at k=41, with an error rate of 0.39. At the same time, through visual observation, we can see that the plot only continues to averagely decrease until +- k = 40. Therefore, we can conclude that the elbow is located at the same point as the global minima, which is k = 41."
      ],
      "metadata": {
        "id": "0uizMEywytQy"
      }
    },
    {
      "cell_type": "code",
      "source": [
        "results = KNN(train_feature_list, train_class_list, test_feature_list, test_class_list, 41)\n",
        "\n",
        "conf_matrix = confusion_matrix(test_class_list, results)\n",
        "ax = seaborn.heatmap(conf_matrix, xticklabels='01', yticklabels='01', annot=True, cmap='Blues', fmt='g')\n",
        "ax.set_xlabel('Actual')\n",
        "ax.set_ylabel('Predicted')\n",
        "plt.show()"
      ],
      "metadata": {
        "trusted": true,
        "id": "knmDYJ0vytQz"
      },
      "execution_count": null,
      "outputs": []
    },
    {
      "cell_type": "code",
      "source": [
        "print(classification_report(test_class_list, results, target_names=['Cat', 'Dog']))"
      ],
      "metadata": {
        "trusted": true,
        "id": "ufoAkoMMytQz"
      },
      "execution_count": null,
      "outputs": []
    },
    {
      "cell_type": "markdown",
      "source": [
        "(2) KNN with elbow method observation-based number of clusters and also elbow method observation-based number of neighbors\n",
        "\n",
        "However, when observing the dataset, it is apparent that there are diverse images with different types of dogs and cats. It would make sense to have a multicluster KNN, where the number of cluster not only represents cats/dogs, but might also help differentiating subtypes of cats/dogs. In order to find this optimal number of clusters, we use elbow method with WCSS."
      ],
      "metadata": {
        "id": "K5a9-KuPytQ0"
      }
    },
    {
      "cell_type": "code",
      "source": [
        "elbow_method_cluster(train_descriptor_list)"
      ],
      "metadata": {
        "trusted": true,
        "id": "G77FzoAWytQ0"
      },
      "execution_count": null,
      "outputs": []
    },
    {
      "cell_type": "markdown",
      "source": [
        "The WCSS plot shows that the elbow (or bend) is at either k = 3 or k = 4 clusters; yet it is more obvious to observe that the curve after k = 3 has formed an almost straight, flat line. Therefore, the optimal number of clusters we will use is 3."
      ],
      "metadata": {
        "id": "YeKGtAy2ytQ1"
      }
    },
    {
      "cell_type": "code",
      "source": [
        "centroids = clustering(train_descriptor_list, 3)\n",
        "train_feature_list = vector_quantization(train_descriptor_list, len(train_image_list), centroids)\n",
        "train_feature_list = normalization(train_feature_list)\n",
        "\n",
        "test_feature_list = vector_quantization(test_descriptor_list, len(test_image_list), centroids)\n",
        "test_feature_list = normalization(test_feature_list)"
      ],
      "metadata": {
        "trusted": true,
        "id": "_ubAStwZytQ1"
      },
      "execution_count": null,
      "outputs": []
    },
    {
      "cell_type": "code",
      "source": [
        "min_error_idx, min_error_val = elbow_method_neighbor(train_feature_list, train_class_list, test_feature_list, test_class_list)"
      ],
      "metadata": {
        "trusted": true,
        "id": "yyalczXhytQ1"
      },
      "execution_count": null,
      "outputs": []
    },
    {
      "cell_type": "markdown",
      "source": [
        "This plot also doesn't show a proper curve, which imply that the clusters in this model most likely had irregular shapes. However, although the global minima is located at k = 73 neighbors, we can observe that the error rate averagely decreases until +- k = 60.\n",
        "Therefore, we can conclude that the elbow is located k = 61."
      ],
      "metadata": {
        "id": "AleOKWXhytRB"
      }
    },
    {
      "cell_type": "code",
      "source": [
        "results = KNN(train_feature_list, train_class_list, test_feature_list, test_class_list, 61)\n",
        "\n",
        "conf_matrix = confusion_matrix(test_class_list, results)\n",
        "ax = seaborn.heatmap(conf_matrix, xticklabels='01', yticklabels='01', annot=True, cmap='Blues', fmt='g')\n",
        "ax.set_xlabel('Actual')\n",
        "ax.set_ylabel('Predicted')\n",
        "plt.show()"
      ],
      "metadata": {
        "trusted": true,
        "id": "N9efs5aeytRB"
      },
      "execution_count": null,
      "outputs": []
    },
    {
      "cell_type": "code",
      "source": [
        "print(classification_report(test_class_list, results, target_names=['Cat', 'Dog']))"
      ],
      "metadata": {
        "trusted": true,
        "id": "gE78O-kVytRC"
      },
      "execution_count": null,
      "outputs": []
    },
    {
      "cell_type": "markdown",
      "source": [
        "In conclusion, with the Dogs vs Cats dataset, KNN with 2 clusters obtained a test accuracy of 61%, while KNN with optimal number of clusters (k = 3) resulted in a test accuracy of 59%. It turns out that there are no improvements after a custom optimal value of k (clusters) are chosen using elbow method (WCSS). This is likely to have happened due to the cluster's irregular shapes, which can be proven from the improper curves of error rate plots."
      ],
      "metadata": {
        "id": "VYis3MswytRC"
      }
    },
    {
      "cell_type": "code",
      "source": [
        "plt.figure(figsize = (10, 30))\n",
        "labels = [\"Cat\", \"Dog\"]\n",
        "for i in range(30):\n",
        "    plt.xticks([])\n",
        "    plt.yticks([])\n",
        "    plt.subplot(6, 5, i + 1)\n",
        "    plt.imshow(cv.cvtColor(test_image_list[i], cv.COLOR_BGR2RGB))\n",
        "    plt.title(labels[results[i]])\n",
        "print(\"Preview of 30 Random KNN Classification Results (with 2nd model)\")\n",
        "plt.show()"
      ],
      "metadata": {
        "trusted": true,
        "id": "JtVYCarAytRC"
      },
      "execution_count": null,
      "outputs": []
    }
  ]
}